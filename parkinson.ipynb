{
 "cells": [
  {
   "cell_type": "code",
   "execution_count": 4,
   "id": "d1a00b9f-eb87-4c39-93f8-757c482be461",
   "metadata": {},
   "outputs": [],
   "source": [
    "import pandas as pd\n",
    "from sklearn.preprocessing import LabelEncoder\n",
    "from sklearn.linear_model import LogisticRegression\n",
    "\n",
    "# 1️⃣ Load datasets\n",
    "train = pd.read_csv(\"train.csv\")\n",
    "test = pd.read_csv(\"test.csv\")\n",
    "\n",
    "# 2️⃣ Handle missing values\n",
    "# Fill Age and Fare\n",
    "train[\"Age\"]=train[\"Age\"].fillna(train[\"Age\"].median())\n",
    "train[\"Embarked\"]=train[\"Embarked\"].fillna(train[\"Embarked\"].mode()[0])\n",
    "train.drop(columns=[\"Cabin\", \"Ticket\", \"Name\", \"PassengerId\"], inplace=True)\n",
    "\n",
    "test[\"Age\"] = test[\"Age\"].fillna(train[\"Age\"].median())\n",
    "test[\"Fare\"] = test[\"Fare\"].fillna(train[\"Fare\"].median())\n",
    "test.drop(columns=[\"Cabin\", \"Ticket\", \"Name\", \"PassengerId\"], inplace=True, errors='ignore')\n",
    "\n",
    "# 3️⃣ Encode categorical features\n",
    "# Map Sex\n",
    "sex_map = {'male': 1, 'female': 0}\n",
    "train[\"Sex\"] = train[\"Sex\"].map(sex_map)\n",
    "test[\"Sex\"] = test[\"Sex\"].map(sex_map)\n",
    "\n",
    "# Map Embarked\n",
    "embarked_map = {'S': 0, 'C': 1, 'Q': 2}\n",
    "train[\"Embarked\"] = train[\"Embarked\"].map(embarked_map)\n",
    "test[\"Embarked\"] = test[\"Embarked\"].map(embarked_map)\n",
    "\n",
    "# 4️⃣ Split features and target\n",
    "X_train = train.drop(\"Survived\", axis=1)\n",
    "y_train = train[\"Survived\"]\n",
    "\n",
    "X_test = test.copy()  # All features from test set\n",
    "\n",
    "# 5️⃣ Train Logistic Regression\n",
    "model = LogisticRegression(max_iter=1000)\n",
    "model.fit(X_train, y_train)\n",
    "\n",
    "# 6️⃣ Predict survivors for test set\n",
    "test[\"Survived\"] = model.predict(X_test)\n",
    "\n",
    "# 7️⃣ Save the updated test set with predictions\n",
    "test.to_csv(\"test_with_survived.csv\", index=False)\n"
   ]
  },
  {
   "cell_type": "code",
   "execution_count": null,
   "id": "1e2e6c78-1ab9-4e71-9cd1-39365703d510",
   "metadata": {},
   "outputs": [],
   "source": []
  }
 ],
 "metadata": {
  "kernelspec": {
   "display_name": "Python (Anaconda)",
   "language": "python",
   "name": "anaconda"
  },
  "language_info": {
   "codemirror_mode": {
    "name": "ipython",
    "version": 3
   },
   "file_extension": ".py",
   "mimetype": "text/x-python",
   "name": "python",
   "nbconvert_exporter": "python",
   "pygments_lexer": "ipython3",
   "version": "3.13.5"
  }
 },
 "nbformat": 4,
 "nbformat_minor": 5
}
